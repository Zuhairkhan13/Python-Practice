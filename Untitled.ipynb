{
 "cells": [
  {
   "cell_type": "code",
   "execution_count": 1,
   "id": "df461620",
   "metadata": {},
   "outputs": [
    {
     "data": {
      "text/plain": [
       "'zuhair'"
      ]
     },
     "execution_count": 1,
     "metadata": {},
     "output_type": "execute_result"
    }
   ],
   "source": [
    "z= \"zuhair\"\n",
    "z"
   ]
  },
  {
   "cell_type": "code",
   "execution_count": 3,
   "id": "b0138fe3",
   "metadata": {},
   "outputs": [
    {
     "data": {
      "text/plain": [
       "6"
      ]
     },
     "execution_count": 3,
     "metadata": {},
     "output_type": "execute_result"
    }
   ],
   "source": [
    "len(z)"
   ]
  },
  {
   "cell_type": "code",
   "execution_count": 4,
   "id": "eda94807",
   "metadata": {},
   "outputs": [
    {
     "data": {
      "text/plain": [
       "'z'"
      ]
     },
     "execution_count": 4,
     "metadata": {},
     "output_type": "execute_result"
    }
   ],
   "source": [
    "z[0]"
   ]
  },
  {
   "cell_type": "code",
   "execution_count": 5,
   "id": "5c0d8ede",
   "metadata": {},
   "outputs": [
    {
     "data": {
      "text/plain": [
       "'Zuhair'"
      ]
     },
     "execution_count": 5,
     "metadata": {},
     "output_type": "execute_result"
    }
   ],
   "source": [
    "z.capitalize()"
   ]
  },
  {
   "cell_type": "code",
   "execution_count": 7,
   "id": "ce2ee3af",
   "metadata": {},
   "outputs": [
    {
     "data": {
      "text/plain": [
       "'zuhair'"
      ]
     },
     "execution_count": 7,
     "metadata": {},
     "output_type": "execute_result"
    }
   ],
   "source": [
    "z.casefold()"
   ]
  },
  {
   "cell_type": "code",
   "execution_count": 10,
   "id": "ab0f7b5b",
   "metadata": {},
   "outputs": [
    {
     "data": {
      "text/plain": [
       "'ZUHAIR'"
      ]
     },
     "execution_count": 10,
     "metadata": {},
     "output_type": "execute_result"
    }
   ],
   "source": [
    "z.upper()"
   ]
  },
  {
   "cell_type": "code",
   "execution_count": 13,
   "id": "a39fa052",
   "metadata": {},
   "outputs": [],
   "source": [
    "list1 = [12,54,68,10,8,100]"
   ]
  },
  {
   "cell_type": "code",
   "execution_count": 14,
   "id": "ffbed2ea",
   "metadata": {},
   "outputs": [],
   "source": [
    "list1.sort()"
   ]
  },
  {
   "cell_type": "code",
   "execution_count": 15,
   "id": "b9fa4c0f",
   "metadata": {},
   "outputs": [
    {
     "data": {
      "text/plain": [
       "[8, 10, 12, 54, 68, 100]"
      ]
     },
     "execution_count": 15,
     "metadata": {},
     "output_type": "execute_result"
    }
   ],
   "source": [
    "list1"
   ]
  },
  {
   "cell_type": "code",
   "execution_count": 34,
   "id": "65786c8d",
   "metadata": {},
   "outputs": [
    {
     "name": "stdout",
     "output_type": "stream",
     "text": [
      "[8, 10, 12, 54, 68, 100]\n"
     ]
    }
   ],
   "source": [
    "list1 = [12,54,68,10,8,100]\n",
    "n = len(list1)\n",
    "\n",
    "for i in range(n):\n",
    "    for j in range(i+1,n):\n",
    "        if list1[i]>list1[j]:\n",
    "            list1[i],list1[j]=list1[j],list1[i]\n",
    "            \n",
    "print(list1)"
   ]
  },
  {
   "cell_type": "code",
   "execution_count": 23,
   "id": "f4e062f2",
   "metadata": {},
   "outputs": [
    {
     "data": {
      "text/plain": [
       "6"
      ]
     },
     "execution_count": 23,
     "metadata": {},
     "output_type": "execute_result"
    }
   ],
   "source": [
    "len(list1)"
   ]
  },
  {
   "cell_type": "code",
   "execution_count": 37,
   "id": "22e92efb",
   "metadata": {},
   "outputs": [
    {
     "name": "stdout",
     "output_type": "stream",
     "text": [
      "[1, 25, 68, 72, 180]\n"
     ]
    }
   ],
   "source": [
    "l = [25,68,72,1,180]\n",
    "n = len(l)\n",
    "\n",
    "for i in range(n):\n",
    "    for j in range(i+1,n):\n",
    "        if l[i]>l[j]:\n",
    "            l[i],l[j]=l[j],l[i]\n",
    "            \n",
    "print(l)"
   ]
  },
  {
   "cell_type": "code",
   "execution_count": 41,
   "id": "d7126529",
   "metadata": {},
   "outputs": [
    {
     "name": "stdout",
     "output_type": "stream",
     "text": [
      "Enter your name: Maham\n",
      "Yes\n"
     ]
    }
   ],
   "source": [
    "z = input(\"Enter your name: \").lower()\n",
    "if z == z[::-1]:\n",
    "    print(\"Yes\")\n",
    "else:\n",
    "    print(\"No\")"
   ]
  },
  {
   "cell_type": "code",
   "execution_count": 51,
   "id": "76d8d524",
   "metadata": {},
   "outputs": [
    {
     "name": "stdout",
     "output_type": "stream",
     "text": [
      "Blue is Sky The\n"
     ]
    }
   ],
   "source": [
    "s = \"The Sky is Blue\"\n",
    "a = s.split()\n",
    "a = a[::-1]\n",
    "a = \" \".join(a)\n",
    "print(a)"
   ]
  },
  {
   "cell_type": "code",
   "execution_count": 66,
   "id": "16d2401a",
   "metadata": {},
   "outputs": [
    {
     "name": "stdout",
     "output_type": "stream",
     "text": [
      "Apples are  found only red  green \n"
     ]
    }
   ],
   "source": [
    "str1 = \"/*Apples are $ found% only @red % green 15\"\n",
    "s = \"\"\n",
    "\n",
    "for i in str1:\n",
    "    if ((i>='A' and i<='Z') | (i>='a' and i<='z') | (i==\" \")):\n",
    "        s = s+i\n",
    "        \n",
    "print(s)"
   ]
  },
  {
   "cell_type": "code",
   "execution_count": 5,
   "id": "a8039194",
   "metadata": {},
   "outputs": [
    {
     "name": "stdout",
     "output_type": "stream",
     "text": [
      "khan zuhair is This\n"
     ]
    }
   ],
   "source": [
    "z = \"This is zuhair khan\"\n",
    "l = z.split()\n",
    "l = l[::-1]\n",
    "l = \" \".join(l)\n",
    "print(l)"
   ]
  },
  {
   "cell_type": "code",
   "execution_count": 8,
   "id": "eb51fffa",
   "metadata": {},
   "outputs": [
    {
     "name": "stdout",
     "output_type": "stream",
     "text": [
      "[0, 1, 12, 21, 25, 68, 74]\n"
     ]
    }
   ],
   "source": [
    "num = [21,25,68,74,0,12,1]\n",
    "l = len(num)\n",
    "\n",
    "for i in range(l):\n",
    "    for j in range(i+1,l):\n",
    "        if num[i]>num[j]:\n",
    "            num[i],num[j]=num[j],num[i]\n",
    "            \n",
    "print(num)"
   ]
  },
  {
   "cell_type": "code",
   "execution_count": 10,
   "id": "9ba759ba",
   "metadata": {},
   "outputs": [
    {
     "name": "stdout",
     "output_type": "stream",
     "text": [
      "This is apple\n"
     ]
    }
   ],
   "source": [
    "str1 = \"#This is @apple()*&^%$\"\n",
    "str2 = \"\"\n",
    "\n",
    "for i in str1:\n",
    "    if ((i>=\"A\" and i<\"Z\")|(i>=\"a\" and i<\"z\")|(i == \" \")):\n",
    "        str2=str2+i\n",
    "        \n",
    "print(str2)"
   ]
  },
  {
   "cell_type": "code",
   "execution_count": 15,
   "id": "ef72d7ac",
   "metadata": {},
   "outputs": [
    {
     "name": "stdout",
     "output_type": "stream",
     "text": [
      "7 3\n",
      "7 3\n",
      "3 7\n",
      "7 3\n"
     ]
    }
   ],
   "source": [
    "list1 = [8,7,5,3,1,7,3,1]\n",
    "n = len(list1)\n",
    "k = 10\n",
    "for i in range(n):\n",
    "    for j in range(i+1,n):\n",
    "        if (list1[i]+list1[j]) == k:\n",
    "            print(list1[i],list1[j])"
   ]
  },
  {
   "cell_type": "code",
   "execution_count": 18,
   "id": "40488e7b",
   "metadata": {},
   "outputs": [
    {
     "name": "stdout",
     "output_type": "stream",
     "text": [
      "1245\n",
      "0\n"
     ]
    }
   ],
   "source": [
    "l = [0,1,20,54,81,38,91,121,452,1245]\n",
    "maxi=l[0]\n",
    "mini=l[0]\n",
    "\n",
    "for i in l:\n",
    "    if i>maxi:\n",
    "        maxi=i\n",
    "    if i<mini:\n",
    "        mini=i\n",
    "print(maxi)\n",
    "print(mini)"
   ]
  },
  {
   "cell_type": "code",
   "execution_count": 20,
   "id": "00a7a77c",
   "metadata": {},
   "outputs": [
    {
     "name": "stdout",
     "output_type": "stream",
     "text": [
      "874\n",
      "2\n"
     ]
    }
   ],
   "source": [
    "k = [21,54,874,6,21,54,8,2]\n",
    "m = k[0]\n",
    "n = k[0]\n",
    "\n",
    "for i in k:\n",
    "    if i>m:\n",
    "        m=i\n",
    "    if i<n:\n",
    "        n=i\n",
    "print(m)\n",
    "print(n)"
   ]
  },
  {
   "cell_type": "code",
   "execution_count": 22,
   "id": "b46ce3ce",
   "metadata": {},
   "outputs": [
    {
     "data": {
      "text/plain": [
       "tuple"
      ]
     },
     "execution_count": 22,
     "metadata": {},
     "output_type": "execute_result"
    }
   ],
   "source": [
    "t = (\"zuhair\",13,12.50)\n",
    "type(t)"
   ]
  },
  {
   "cell_type": "code",
   "execution_count": 33,
   "id": "871d020f",
   "metadata": {},
   "outputs": [
    {
     "data": {
      "text/plain": [
       "[0, 1, 4, 9, 16, 25, 36, 49, 64, 81]"
      ]
     },
     "execution_count": 33,
     "metadata": {},
     "output_type": "execute_result"
    }
   ],
   "source": [
    "[i**2 for i in range(10)]"
   ]
  },
  {
   "cell_type": "code",
   "execution_count": null,
   "id": "72654eef",
   "metadata": {},
   "outputs": [],
   "source": []
  }
 ],
 "metadata": {
  "kernelspec": {
   "display_name": "Python 3 (ipykernel)",
   "language": "python",
   "name": "python3"
  },
  "language_info": {
   "codemirror_mode": {
    "name": "ipython",
    "version": 3
   },
   "file_extension": ".py",
   "mimetype": "text/x-python",
   "name": "python",
   "nbconvert_exporter": "python",
   "pygments_lexer": "ipython3",
   "version": "3.11.5"
  }
 },
 "nbformat": 4,
 "nbformat_minor": 5
}
